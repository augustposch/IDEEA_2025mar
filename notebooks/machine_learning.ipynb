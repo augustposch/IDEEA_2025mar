{
 "cells": [
  {
   "cell_type": "markdown",
   "id": "af4c8e1a-ecc7-44b2-a3b0-59ba5eb5ac2e",
   "metadata": {},
   "source": [
    "Machine learning, Baseline AI downscaler\n",
    "\n",
    "August Posch --- March 2025\n",
    "\n",
    "Toy version for 1991-1992. Train on 1991, validate on 1992."
   ]
  },
  {
   "cell_type": "code",
   "execution_count": 7,
   "id": "f52ae7c0-efa0-43e8-b417-ed0a7f0800c2",
   "metadata": {},
   "outputs": [],
   "source": [
    "parameters = {\n",
    "    'X_train_rean': '../data/ML_ready/quincy_ERA5_1991.npy',\n",
    "    'y_train': '../data/ML_ready/gba_livneh_unsplit_1991.npy',\n",
    "    'X_val_rean': '../data/ML_ready/quincy_ERA5_1992.npy',\n",
    "    'y_val': '../data/ML_ready/gba_livneh_unsplit_1992.npy',\n",
    "    'X_val_gcm': '../data/ML_ready/bos_CESM2_val.npy',\n",
    "    'X_fut_gcm': '../data/ML_ready/bos_CESM2_fut.npy',\n",
    "}"
   ]
  },
  {
   "cell_type": "code",
   "execution_count": 8,
   "id": "be62a102-ecf1-428a-8777-9646c9c28fd7",
   "metadata": {},
   "outputs": [],
   "source": [
    "import xarray as xr\n",
    "import pandas as pd\n",
    "import numpy as np\n",
    "from sklearn.ensemble import RandomForestRegressor"
   ]
  },
  {
   "cell_type": "code",
   "execution_count": 13,
   "id": "25ed25e4-32d8-4556-9c36-34a422e3afc5",
   "metadata": {},
   "outputs": [],
   "source": [
    "X_train_rean = np.load(parameters['X_train_rean'], allow_pickle=True)\n",
    "y_train = np.load(parameters['y_train'], allow_pickle=True)\n",
    "X_val_rean = np.load(parameters['X_val_rean'], allow_pickle=True)\n",
    "y_val = np.load(parameters['y_val'], allow_pickle=True)"
   ]
  },
  {
   "cell_type": "code",
   "execution_count": 14,
   "id": "dc5d47bb-8872-4166-ba52-4da30acba2e4",
   "metadata": {},
   "outputs": [],
   "source": [
    "model = RandomForestRegressor() # just all the defaults for now - will add hyperparameter optzn next"
   ]
  },
  {
   "cell_type": "code",
   "execution_count": 19,
   "id": "f0cfc738-5696-47c5-a9ce-46f10ac16c51",
   "metadata": {},
   "outputs": [
    {
     "name": "stdout",
     "output_type": "stream",
     "text": [
      "> Fitting the model on the training set\n",
      "> Predicting on the validation set\n",
      "> Recording performance metrics\n",
      "Mean Absolute Error: 2.98 mm\n"
     ]
    }
   ],
   "source": [
    "print('> Fitting the model on the training set')\n",
    "model.fit(X_train_rean, y_train)\n",
    "print('> Predicting on the validation set')\n",
    "pred = model.predict(X_val_rean)\n",
    "print('> Recording performance metrics')\n",
    "error =  pred - y_val\n",
    "mae = np.mean(np.abs(error))\n",
    "print('Mean Absolute Error:', np.round(mae,2), 'mm')"
   ]
  },
  {
   "cell_type": "markdown",
   "id": "cf9ef8d0-0987-4831-93ca-a83a8784123b",
   "metadata": {},
   "source": [
    "Next adds: hyperparameter optimization, more data, more metrics, outputs for visualization."
   ]
  },
  {
   "cell_type": "code",
   "execution_count": null,
   "id": "c545605c-5e22-41d2-8f06-1d655a680c17",
   "metadata": {},
   "outputs": [],
   "source": []
  }
 ],
 "metadata": {
  "kernelspec": {
   "display_name": "Python 3 (ipykernel)",
   "language": "python",
   "name": "python3"
  },
  "language_info": {
   "codemirror_mode": {
    "name": "ipython",
    "version": 3
   },
   "file_extension": ".py",
   "mimetype": "text/x-python",
   "name": "python",
   "nbconvert_exporter": "python",
   "pygments_lexer": "ipython3",
   "version": "3.9.18"
  }
 },
 "nbformat": 4,
 "nbformat_minor": 5
}
